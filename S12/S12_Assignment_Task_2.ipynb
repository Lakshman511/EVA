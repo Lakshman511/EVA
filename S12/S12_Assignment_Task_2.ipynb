{
  "nbformat": 4,
  "nbformat_minor": 0,
  "metadata": {
    "colab": {
      "name": "S12 Assignment Task 2.ipynb",
      "provenance": [],
      "include_colab_link": true
    },
    "kernelspec": {
      "name": "python3",
      "display_name": "Python 3"
    }
  },
  "cells": [
    {
      "cell_type": "markdown",
      "metadata": {
        "id": "view-in-github",
        "colab_type": "text"
      },
      "source": [
        "<a href=\"https://colab.research.google.com/github/sridevibonthu/EVA/blob/master/S12/S12_Assignment_Task_2.ipynb\" target=\"_parent\"><img src=\"https://colab.research.google.com/assets/colab-badge.svg\" alt=\"Open In Colab\"/></a>"
      ]
    },
    {
      "cell_type": "markdown",
      "metadata": {
        "id": "Lx_xJVzBEJge",
        "colab_type": "text"
      },
      "source": [
        "## Loading Images and annotations from git"
      ]
    },
    {
      "cell_type": "code",
      "metadata": {
        "id": "yF8rMzRMia0W",
        "colab_type": "code",
        "outputId": "9b4d85a0-5d01-4358-b719-075f6c86db7b",
        "colab": {
          "base_uri": "https://localhost:8080/",
          "height": 108
        }
      },
      "source": [
        "!git clone https://github.com/sridevibonthu/EVALibrary.git"
      ],
      "execution_count": 1,
      "outputs": [
        {
          "output_type": "stream",
          "text": [
            "Cloning into 'EVALibrary'...\n",
            "remote: Enumerating objects: 160, done.\u001b[K\n",
            "Receiving objects:   0% (1/160)   \rReceiving objects:   1% (2/160)   \rReceiving objects:   2% (4/160)   \rReceiving objects:   3% (5/160)   \rReceiving objects:   4% (7/160)   \rReceiving objects:   5% (8/160)   \rReceiving objects:   6% (10/160)   \rReceiving objects:   7% (12/160)   \rReceiving objects:   8% (13/160)   \rReceiving objects:   9% (15/160)   \rReceiving objects:  10% (16/160)   \rReceiving objects:  11% (18/160)   \rReceiving objects:  12% (20/160)   \rReceiving objects:  13% (21/160)   \rReceiving objects:  14% (23/160)   \rReceiving objects:  15% (24/160)   \rReceiving objects:  16% (26/160)   \rReceiving objects:  17% (28/160)   \rReceiving objects:  18% (29/160)   \rReceiving objects:  19% (31/160)   \rReceiving objects:  20% (32/160)   \rReceiving objects:  21% (34/160)   \rReceiving objects:  22% (36/160)   \rReceiving objects:  23% (37/160)   \rReceiving objects:  24% (39/160)   \rReceiving objects:  25% (40/160)   \rReceiving objects:  26% (42/160)   \rReceiving objects:  27% (44/160)   \rReceiving objects:  28% (45/160)   \rReceiving objects:  29% (47/160)   \rReceiving objects:  30% (48/160)   \rReceiving objects:  31% (50/160)   \rReceiving objects:  32% (52/160)   \rReceiving objects:  33% (53/160)   \rReceiving objects:  34% (55/160)   \rReceiving objects:  35% (56/160)   \rReceiving objects:  36% (58/160)   \rReceiving objects:  37% (60/160)   \rReceiving objects:  38% (61/160)   \rReceiving objects:  39% (63/160)   \rReceiving objects:  40% (64/160)   \rReceiving objects:  41% (66/160)   \rReceiving objects:  42% (68/160)   \rReceiving objects:  43% (69/160)   \rReceiving objects:  44% (71/160)   \rReceiving objects:  45% (72/160)   \rReceiving objects:  46% (74/160)   \rReceiving objects:  47% (76/160)   \rReceiving objects:  48% (77/160)   \rReceiving objects:  49% (79/160)   \rReceiving objects:  50% (80/160)   \rReceiving objects:  51% (82/160)   \rReceiving objects:  52% (84/160)   \rReceiving objects:  53% (85/160)   \rReceiving objects:  54% (87/160)   \rReceiving objects:  55% (88/160)   \rReceiving objects:  56% (90/160)   \rReceiving objects:  57% (92/160)   \rReceiving objects:  58% (93/160)   \rReceiving objects:  59% (95/160)   \rReceiving objects:  60% (96/160)   \rReceiving objects:  61% (98/160)   \rReceiving objects:  62% (100/160)   \rReceiving objects:  63% (101/160)   \rReceiving objects:  64% (103/160)   \rReceiving objects:  65% (104/160)   \rReceiving objects:  66% (106/160)   \rReceiving objects:  67% (108/160)   \rremote: Total 160 (delta 0), reused 0 (delta 0), pack-reused 160\u001b[K\n",
            "Receiving objects:  68% (109/160)   \rReceiving objects:  69% (111/160)   \rReceiving objects:  70% (112/160)   \rReceiving objects:  71% (114/160)   \rReceiving objects:  72% (116/160)   \rReceiving objects:  73% (117/160)   \rReceiving objects:  74% (119/160)   \rReceiving objects:  75% (120/160)   \rReceiving objects:  76% (122/160)   \rReceiving objects:  77% (124/160)   \rReceiving objects:  78% (125/160)   \rReceiving objects:  79% (127/160)   \rReceiving objects:  80% (128/160)   \rReceiving objects:  81% (130/160)   \rReceiving objects:  82% (132/160)   \rReceiving objects:  83% (133/160)   \rReceiving objects:  84% (135/160)   \rReceiving objects:  85% (136/160)   \rReceiving objects:  86% (138/160)   \rReceiving objects:  87% (140/160)   \rReceiving objects:  88% (141/160)   \rReceiving objects:  89% (143/160)   \rReceiving objects:  90% (144/160)   \rReceiving objects:  91% (146/160)   \rReceiving objects:  92% (148/160)   \rReceiving objects:  93% (149/160)   \rReceiving objects:  94% (151/160)   \rReceiving objects:  95% (152/160)   \rReceiving objects:  96% (154/160)   \rReceiving objects:  97% (156/160)   \rReceiving objects:  98% (157/160)   \rReceiving objects:  99% (159/160)   \rReceiving objects: 100% (160/160)   \rReceiving objects: 100% (160/160), 2.39 MiB | 5.66 MiB/s, done.\n",
            "Resolving deltas:   0% (0/35)   \rResolving deltas:  28% (10/35)   \rResolving deltas:  45% (16/35)   \rResolving deltas:  60% (21/35)   \rResolving deltas:  62% (22/35)   \rResolving deltas:  68% (24/35)   \rResolving deltas:  71% (25/35)   \rResolving deltas:  77% (27/35)   \rResolving deltas:  85% (30/35)   \rResolving deltas:  88% (31/35)   \rResolving deltas: 100% (35/35)   \rResolving deltas: 100% (35/35), done.\n"
          ],
          "name": "stdout"
        }
      ]
    },
    {
      "cell_type": "markdown",
      "metadata": {
        "id": "jvekKDzPEXdc",
        "colab_type": "text"
      },
      "source": [
        "## Importing Libraries"
      ]
    },
    {
      "cell_type": "code",
      "metadata": {
        "id": "FJlxNYb3FYeR",
        "colab_type": "code",
        "colab": {}
      },
      "source": [
        "import json  \n",
        "import pandas as pd  \n",
        "import math\n",
        "from PIL import Image \n",
        "import matplotlib.pyplot as plt\n",
        "import numpy as np\n",
        "from sklearn.cluster import KMeans"
      ],
      "execution_count": 0,
      "outputs": []
    },
    {
      "cell_type": "markdown",
      "metadata": {
        "id": "tXFuFfOUElDz",
        "colab_type": "text"
      },
      "source": [
        "## Load Annotations from JSON file"
      ]
    },
    {
      "cell_type": "code",
      "metadata": {
        "id": "kSgW2m32FlQu",
        "colab_type": "code",
        "colab": {}
      },
      "source": [
        "with open('Dogannotations.json') as f:\n",
        "  data = json.load(f)"
      ],
      "execution_count": 0,
      "outputs": []
    },
    {
      "cell_type": "markdown",
      "metadata": {
        "id": "VDlWCLPPEpf8",
        "colab_type": "text"
      },
      "source": [
        "## Sample Labelled Annotated Record with Description"
      ]
    },
    {
      "cell_type": "markdown",
      "metadata": {
        "id": "Il9yH6RG8qZC",
        "colab_type": "text"
      },
      "source": [
        "```\n",
        " \"Dog-13.jpg63606\": {                  #Key of the Entry\n",
        "    \"filename\": \"Dog-13.jpg\",          #Name of the Image File\n",
        "    \"size\": 63606,                     #Image size in bytes\n",
        "    \"regions\": [                       #List of dictionaries containing information about selected box (annotated region) and its class name\n",
        "      {\n",
        "        \"shape_attributes\": {\n",
        "          \"name\": \"rect\",              # Shape of the box\n",
        "          \"x\": 140,                    # Starting x-coordinate\n",
        "          \"y\": 48,                     # Starting y-coordinate\n",
        "          \"width\": 336,                # Width in pixels \n",
        "          \"height\": 305                # Height in pixels\n",
        "        },\n",
        "        \"region_attributes\": {\n",
        "          \"class\": \"dog\"               # Class name for the selected region\n",
        "        }\n",
        "      }\n",
        "    ],\n",
        "    \"file_attributes\": {               # attributes of file, url if is taken from online. not needed\n",
        "      \"caption\": \"\",\n",
        "      \"public_domain\": \"no\",\n",
        "      \"image_url\": \"\"\n",
        "    }\n",
        "  },\n",
        "```\n",
        "\n"
      ]
    },
    {
      "cell_type": "markdown",
      "metadata": {
        "id": "0y87gkeNFk3e",
        "colab_type": "text"
      },
      "source": [
        "## Get data for clustering"
      ]
    },
    {
      "cell_type": "code",
      "metadata": {
        "id": "wnJIwV9sHFRL",
        "colab_type": "code",
        "colab": {}
      },
      "source": [
        "path = 'EVALibrary/EVA4/Dogs/'\n",
        "ds = []\n",
        "for key, valud in data.items():\n",
        "  img = Image.open(path+data[key]['filename'])\n",
        "  sublist = list(img.size)\n",
        "  sublist.append(data[key]['regions'][0]['shape_attributes']['x']/sublist[0])\n",
        "  sublist.append(data[key]['regions'][0]['shape_attributes']['y']/sublist[1])\n",
        "  sublist.append(data[key]['regions'][0]['shape_attributes']['width']/sublist[0])\n",
        "  sublist.append(data[key]['regions'][0]['shape_attributes']['height']/sublist[1])\n",
        "  ds.append(sublist)"
      ],
      "execution_count": 0,
      "outputs": []
    },
    {
      "cell_type": "code",
      "metadata": {
        "id": "jAAPuwWaHKIy",
        "colab_type": "code",
        "outputId": "4bbe8bf3-9417-4af9-81d7-413431886ba9",
        "colab": {
          "base_uri": "https://localhost:8080/",
          "height": 126
        }
      },
      "source": [
        "import pandas as pd\n",
        "df = pd.DataFrame(ds, columns = ['img_width', 'img_height', 'x', 'y', 'width', 'height', ])\n",
        "print(df.head())"
      ],
      "execution_count": 15,
      "outputs": [
        {
          "output_type": "stream",
          "text": [
            "   img_width  img_height         x         y     width    height\n",
            "0        480         240  0.325000  0.083333  0.358333  0.766667\n",
            "1        415         217  0.000000  0.050691  0.590361  0.944700\n",
            "2        552         368  0.248188  0.108696  0.744565  0.869565\n",
            "3        283         368  0.035336  0.027174  0.943463  0.904891\n",
            "4        293         368  0.085324  0.108696  0.904437  0.831522\n"
          ],
          "name": "stdout"
        }
      ]
    },
    {
      "cell_type": "code",
      "metadata": {
        "id": "-FK-2FjtwYbW",
        "colab_type": "code",
        "colab": {}
      },
      "source": [
        "samples = df.values[:,-2:]"
      ],
      "execution_count": 0,
      "outputs": []
    },
    {
      "cell_type": "markdown",
      "metadata": {
        "id": "KnKd-dOk8J8v",
        "colab_type": "text"
      },
      "source": [
        "## Raw Data Visulaization"
      ]
    },
    {
      "cell_type": "code",
      "metadata": {
        "id": "p_H3dmQzqzfL",
        "colab_type": "code",
        "outputId": "fd9c5f0f-c60e-448f-b390-6ec72aa7d9be",
        "colab": {
          "base_uri": "https://localhost:8080/",
          "height": 422
        }
      },
      "source": [
        "plt.figure(figsize=(6, 6))\n",
        "#plt.scatter(df.iloc[:, -2], df.iloc[:, -1])\n",
        "plt.scatter(samples[:,0], samples[:,1])\n",
        "plt.xlim([0, 1])\n",
        "plt.ylim([0, 1])\n",
        "plt.title('Visualization of raw data')\n",
        "plt.xlabel('Width')\n",
        "plt.ylabel('Height')"
      ],
      "execution_count": 17,
      "outputs": [
        {
          "output_type": "execute_result",
          "data": {
            "text/plain": [
              "Text(0, 0.5, 'Height')"
            ]
          },
          "metadata": {
            "tags": []
          },
          "execution_count": 17
        },
        {
          "output_type": "display_data",
          "data": {
            "image/png": "[encoded data removed]",
            "text/plain": [
              "<Figure size 432x432 with 1 Axes>"
            ]
          },
          "metadata": {
            "tags": [],
            "needs_background": "light"
          }
        }
      ]
    },
    {
      "cell_type": "markdown",
      "metadata": {
        "id": "TFOT5Rqf8NRP",
        "colab_type": "text"
      },
      "source": [
        "## Elbow Plot - to find the best number of Clusters"
      ]
    },
    {
      "cell_type": "code",
      "metadata": {
        "id": "qrMMmNStugp-",
        "colab_type": "code",
        "outputId": "83060f6d-9758-4215-a4e9-b42447dcbe42",
        "colab": {
          "base_uri": "https://localhost:8080/",
          "height": 388
        }
      },
      "source": [
        "# Run the Kmeans algorithm and get the index of data points clusters\n",
        "sse = []\n",
        "list_k = list(range(1, 25))\n",
        "\n",
        "for k in list_k:\n",
        "    km = KMeans(n_clusters=k)\n",
        "    km.fit(samples)\n",
        "    sse.append(km.inertia_)\n",
        "    \n",
        "# Plot sse against k\n",
        "plt.figure(figsize=(6, 6))\n",
        "plt.plot(list_k, sse, '-o')\n",
        "plt.xlabel(r'Number of clusters *k*')\n",
        "plt.ylabel('Sum of squared distance');"
      ],
      "execution_count": 18,
      "outputs": [
        {
          "output_type": "display_data",
          "data": {
            "image/png": "[encoded data removed]",
            "text/plain": [
              "<Figure size 432x432 with 1 Axes>"
            ]
          },
          "metadata": {
            "tags": [],
            "needs_background": "light"
          }
        }
      ]
    },
    {
      "cell_type": "markdown",
      "metadata": {
        "id": "iQBcon-z8g3w",
        "colab_type": "text"
      },
      "source": [
        "## Clustering"
      ]
    },
    {
      "cell_type": "code",
      "metadata": {
        "id": "sDdnMPQ1yl6q",
        "colab_type": "code",
        "outputId": "95420150-db61-4718-978e-cca841b48911",
        "colab": {
          "base_uri": "https://localhost:8080/",
          "height": 54
        }
      },
      "source": [
        "nc=3\n",
        "\n",
        "model = KMeans(n_clusters=nc, max_iter=600)\n",
        "model.fit(samples)\n",
        "labels = model.predict(samples)\n",
        "centroids = model.cluster_centers_\n",
        "print(labels)"
      ],
      "execution_count": 19,
      "outputs": [
        {
          "output_type": "stream",
          "text": [
            "[2 1 0 0 0 0 0 2 0 2 2 2 1 1 1 1 2 1 1 0 1 1 0 0 1 1 2 1 2 1 1 1 2 0 1 0 1\n",
            " 1 1 2 1 1 1 1 1 1 0 1 1 1 0 0 1 0 1 1]\n"
          ],
          "name": "stdout"
        }
      ]
    },
    {
      "cell_type": "code",
      "metadata": {
        "id": "33pcu4l_zQ-r",
        "colab_type": "code",
        "outputId": "d5fb9a5f-8e25-4986-9e31-59529781a4c8",
        "colab": {
          "base_uri": "https://localhost:8080/",
          "height": 422
        }
      },
      "source": [
        "# Plot the clustered data\n",
        "fig, ax = plt.subplots(figsize=(6, 6))\n",
        "colors = ['red', 'yellow', 'green', 'blue', 'orange']\n",
        "for i in range(nc):\n",
        "  plt.scatter(samples[labels == i, 0], samples[labels == i, 1], c=colors[i], label='cluster '+str(i+1))\n",
        "plt.scatter(centroids[:, 0], centroids[:, 1], c='black', marker='*', s=50, label='centroid')\n",
        "plt.legend(loc='best')\n",
        "plt.xlim([0, 1])\n",
        "plt.ylim([0, 1])\n",
        "plt.xlabel('Width')\n",
        "plt.ylabel('Height')\n",
        "plt.title('Visualization of clustered data', fontweight='bold')\n"
      ],
      "execution_count": 20,
      "outputs": [
        {
          "output_type": "execute_result",
          "data": {
            "text/plain": [
              "Text(0.5, 1.0, 'Visualization of clustered data')"
            ]
          },
          "metadata": {
            "tags": []
          },
          "execution_count": 20
        },
        {
          "output_type": "display_data",
          "data": {
            "image/png": "[encoded data removed]",
            "text/plain": [
              "<Figure size 432x432 with 1 Axes>"
            ]
          },
          "metadata": {
            "tags": [],
            "needs_background": "light"
          }
        }
      ]
    },
    {
      "cell_type": "code",
      "metadata": {
        "id": "4I0fIza22WC8",
        "colab_type": "code",
        "colab": {}
      },
      "source": [
        ""
      ],
      "execution_count": 0,
      "outputs": []
    }
  ]
}